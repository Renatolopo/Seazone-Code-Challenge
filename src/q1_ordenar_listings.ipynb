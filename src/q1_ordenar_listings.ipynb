{
 "metadata": {
  "language_info": {
   "codemirror_mode": {
    "name": "ipython",
    "version": 3
   },
   "file_extension": ".py",
   "mimetype": "text/x-python",
   "name": "python",
   "nbconvert_exporter": "python",
   "pygments_lexer": "ipython3",
   "version": "3.8.5"
  },
  "orig_nbformat": 2,
  "kernelspec": {
   "name": "python3",
   "display_name": "Python 3.8.5 64-bit ('base': conda)",
   "metadata": {
    "interpreter": {
     "hash": "1d151a68831448000e09cfc499a6de9a24b6912dae8debe2df70808284a908ce"
    }
   }
  }
 },
 "nbformat": 4,
 "nbformat_minor": 2,
 "cells": [
  {
   "cell_type": "code",
   "execution_count": 21,
   "metadata": {},
   "outputs": [],
   "source": [
    "import pandas as pd \n",
    "df_details = pd.read_csv('../data/desafio_details.csv')\n"
   ]
  },
  {
   "source": [
    "Bairros"
   ],
   "cell_type": "markdown",
   "metadata": {}
  },
  {
   "cell_type": "code",
   "execution_count": 18,
   "metadata": {},
   "outputs": [
    {
     "output_type": "execute_result",
     "data": {
      "text/plain": [
       "array(['Jurerê', 'Canasvieiras', 'Ingleses', 'Lagoa da Conceição',\n",
       "       'Centro'], dtype=object)"
      ]
     },
     "metadata": {},
     "execution_count": 18
    }
   ],
   "source": [
    "df_details['suburb'].unique()"
   ]
  },
  {
   "source": [
    "Bairros em ordem crescente de número de listings"
   ],
   "cell_type": "markdown",
   "metadata": {}
  },
  {
   "cell_type": "code",
   "execution_count": 20,
   "metadata": {},
   "outputs": [
    {
     "output_type": "execute_result",
     "data": {
      "text/plain": [
       "                       0\n",
       "suburb                  \n",
       "Centro               278\n",
       "Lagoa da Conceição   309\n",
       "Jurerê               539\n",
       "Canasvieiras        1177\n",
       "Ingleses            2388"
      ],
      "text/html": "<div>\n<style scoped>\n    .dataframe tbody tr th:only-of-type {\n        vertical-align: middle;\n    }\n\n    .dataframe tbody tr th {\n        vertical-align: top;\n    }\n\n    .dataframe thead th {\n        text-align: right;\n    }\n</style>\n<table border=\"1\" class=\"dataframe\">\n  <thead>\n    <tr style=\"text-align: right;\">\n      <th></th>\n      <th>0</th>\n    </tr>\n    <tr>\n      <th>suburb</th>\n      <th></th>\n    </tr>\n  </thead>\n  <tbody>\n    <tr>\n      <th>Centro</th>\n      <td>278</td>\n    </tr>\n    <tr>\n      <th>Lagoa da Conceição</th>\n      <td>309</td>\n    </tr>\n    <tr>\n      <th>Jurerê</th>\n      <td>539</td>\n    </tr>\n    <tr>\n      <th>Canasvieiras</th>\n      <td>1177</td>\n    </tr>\n    <tr>\n      <th>Ingleses</th>\n      <td>2388</td>\n    </tr>\n  </tbody>\n</table>\n</div>"
     },
     "metadata": {},
     "execution_count": 20
    }
   ],
   "source": [
    "\n",
    "pd.DataFrame(df_details.groupby(by='suburb').size().sort_values())"
   ]
  }
 ]
}