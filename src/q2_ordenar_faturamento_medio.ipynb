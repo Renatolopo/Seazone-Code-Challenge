{
 "metadata": {
  "language_info": {
   "codemirror_mode": {
    "name": "ipython",
    "version": 3
   },
   "file_extension": ".py",
   "mimetype": "text/x-python",
   "name": "python",
   "nbconvert_exporter": "python",
   "pygments_lexer": "ipython3",
   "version": "3.8.5"
  },
  "orig_nbformat": 2,
  "kernelspec": {
   "name": "python3",
   "display_name": "Python 3.8.5 64-bit ('base': conda)",
   "metadata": {
    "interpreter": {
     "hash": "1d151a68831448000e09cfc499a6de9a24b6912dae8debe2df70808284a908ce"
    }
   }
  }
 },
 "nbformat": 4,
 "nbformat_minor": 2,
 "cells": [
  {
   "cell_type": "code",
   "execution_count": 1,
   "metadata": {},
   "outputs": [],
   "source": [
    "import pandas as pd \n",
    "\n",
    "# importa as duas base de dados\n",
    "df_details = pd.read_csv('../data/desafio_details.csv')\n",
    "df_priceav = pd.read_csv('../data/desafio_priceav.csv')"
   ]
  },
  {
   "cell_type": "code",
   "execution_count": 2,
   "metadata": {},
   "outputs": [
    {
     "output_type": "execute_result",
     "data": {
      "text/plain": [
       "((4691, 9), (354520, 7))"
      ]
     },
     "metadata": {},
     "execution_count": 2
    }
   ],
   "source": [
    "df_details.shape, df_priceav.shape"
   ]
  },
  {
   "cell_type": "code",
   "execution_count": 3,
   "metadata": {},
   "outputs": [],
   "source": [
    "# unindo as duas base de dados pelo airbnb_listing_id\n",
    "df = pd.merge(df_details,df_priceav,on='airbnb_listing_id')"
   ]
  },
  {
   "cell_type": "code",
   "execution_count": 24,
   "metadata": {},
   "outputs": [
    {
     "output_type": "execute_result",
     "data": {
      "text/plain": [
       "(354520, 15)"
      ]
     },
     "metadata": {},
     "execution_count": 24
    }
   ],
   "source": [
    "df.shape"
   ]
  },
  {
   "cell_type": "code",
   "execution_count": 3,
   "metadata": {},
   "outputs": [
    {
     "output_type": "execute_result",
     "data": {
      "text/plain": [
       "               suburb  price_string\n",
       "0              Centro    219.088990\n",
       "1  Lagoa da Conceição    250.514148\n",
       "2        Canasvieiras    292.571139\n",
       "3            Ingleses    350.371020\n",
       "4              Jurerê    406.074854"
      ],
      "text/html": "<div>\n<style scoped>\n    .dataframe tbody tr th:only-of-type {\n        vertical-align: middle;\n    }\n\n    .dataframe tbody tr th {\n        vertical-align: top;\n    }\n\n    .dataframe thead th {\n        text-align: right;\n    }\n</style>\n<table border=\"1\" class=\"dataframe\">\n  <thead>\n    <tr style=\"text-align: right;\">\n      <th></th>\n      <th>suburb</th>\n      <th>price_string</th>\n    </tr>\n  </thead>\n  <tbody>\n    <tr>\n      <th>0</th>\n      <td>Centro</td>\n      <td>219.088990</td>\n    </tr>\n    <tr>\n      <th>1</th>\n      <td>Lagoa da Conceição</td>\n      <td>250.514148</td>\n    </tr>\n    <tr>\n      <th>2</th>\n      <td>Canasvieiras</td>\n      <td>292.571139</td>\n    </tr>\n    <tr>\n      <th>3</th>\n      <td>Ingleses</td>\n      <td>350.371020</td>\n    </tr>\n    <tr>\n      <th>4</th>\n      <td>Jurerê</td>\n      <td>406.074854</td>\n    </tr>\n  </tbody>\n</table>\n</div>"
     },
     "metadata": {},
     "execution_count": 3
    }
   ],
   "source": [
    "# Bairros em ordem crescente de faturamento médio dos listings \n",
    "pd.DataFrame(df.groupby(by='suburb')['price_string'].mean().sort_values()).reset_index()"
   ]
  }
 ]
}