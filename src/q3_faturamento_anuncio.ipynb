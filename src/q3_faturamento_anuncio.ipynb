{
 "metadata": {
  "language_info": {
   "codemirror_mode": {
    "name": "ipython",
    "version": 3
   },
   "file_extension": ".py",
   "mimetype": "text/x-python",
   "name": "python",
   "nbconvert_exporter": "python",
   "pygments_lexer": "ipython3",
   "version": "3.8.5"
  },
  "orig_nbformat": 2,
  "kernelspec": {
   "name": "python3",
   "display_name": "Python 3.8.5 64-bit ('base': conda)",
   "metadata": {
    "interpreter": {
     "hash": "1d151a68831448000e09cfc499a6de9a24b6912dae8debe2df70808284a908ce"
    }
   }
  }
 },
 "nbformat": 4,
 "nbformat_minor": 2,
 "cells": [
  {
   "cell_type": "code",
   "execution_count": 1,
   "metadata": {},
   "outputs": [],
   "source": [
    "import pandas as pd \n",
    "import numpy as np "
   ]
  },
  {
   "cell_type": "code",
   "execution_count": 2,
   "metadata": {},
   "outputs": [],
   "source": [
    "df_details = pd.read_csv('../data/desafio_details.csv')\n",
    "df_priceav = pd.read_csv('../data/desafio_priceav.csv')"
   ]
  },
  {
   "source": [
    "Calculando faturamento por anúncio"
   ],
   "cell_type": "markdown",
   "metadata": {}
  },
  {
   "cell_type": "code",
   "execution_count": 3,
   "metadata": {
    "tags": []
   },
   "outputs": [],
   "source": [
    "df_details['faturamento'] = 0\n",
    "for i in range(len(df_details)):\n",
    "    listing_id = df_details['airbnb_listing_id'].iloc[i]\n",
    "    df_details['faturamento'].iloc[i] = df_priceav[df_priceav['airbnb_listing_id'] == listing_id]['price_string'].sum()"
   ]
  },
  {
   "cell_type": "code",
   "execution_count": 24,
   "metadata": {},
   "outputs": [
    {
     "output_type": "execute_result",
     "data": {
      "text/plain": [
       "      Unnamed: 0  airbnb_listing_id        suburb  \\\n",
       "0              0           31389869        Jurerê   \n",
       "1              1           40010667  Canasvieiras   \n",
       "2              2           38905997      Ingleses   \n",
       "3              3           22343656      Ingleses   \n",
       "4              4           18328184  Canasvieiras   \n",
       "...          ...                ...           ...   \n",
       "4686        4686           34392248      Ingleses   \n",
       "4687        4687           44538969  Canasvieiras   \n",
       "4688        4688           16609826        Jurerê   \n",
       "4689        4689           31239515  Canasvieiras   \n",
       "4690        4690            5078051      Ingleses   \n",
       "\n",
       "                                                ad_name  number_of_bedrooms  \\\n",
       "0                           Lindo Apartamento em Jurerê                 2.0   \n",
       "1                          Residencial Arruda, 1 quarto                 1.0   \n",
       "2     Apartamento NOVO Completo - Moderno e Sofisticado                 1.0   \n",
       "3                       06- Apartamento 02 habitaciones                 2.0   \n",
       "4        Apto 2 quartos em Canasvieiras, Florianopolis!                 2.0   \n",
       "...                                                 ...                 ...   \n",
       "4686     Lindo e acogedor apto en zona norte de la Isla                 2.0   \n",
       "4687       Ótimo apto no centro de Canas, a 450m do mar                 1.0   \n",
       "4688      Agradável Apartamento em Jurerê Internacional                 3.0   \n",
       "4689          Cobertura no centro 3 dormitorios com AR.                 3.0   \n",
       "4690                       APARTAMENTO A 400 M DA PRAIA                 2.0   \n",
       "\n",
       "      number_of_bathrooms  star_rating  is_superhost  number_of_reviews  \\\n",
       "0                     2.0          5.0         False               15.0   \n",
       "1                     1.0          NaN         False                0.0   \n",
       "2                     1.0          4.5          True               13.0   \n",
       "3                     1.0          5.0          True               28.0   \n",
       "4                     1.0          5.0          True               35.0   \n",
       "...                   ...          ...           ...                ...   \n",
       "4686                  2.0          NaN         False                0.0   \n",
       "4687                  1.0          NaN         False                0.0   \n",
       "4688                  2.0          5.0          True               30.0   \n",
       "4689                  2.0          NaN          True                2.0   \n",
       "4690                  2.0          5.0         False               18.0   \n",
       "\n",
       "      faturamento  \n",
       "0         13510.0  \n",
       "1         35740.0  \n",
       "2         16806.0  \n",
       "3             0.0  \n",
       "4         26825.0  \n",
       "...           ...  \n",
       "4686          0.0  \n",
       "4687          0.0  \n",
       "4688          0.0  \n",
       "4689          0.0  \n",
       "4690          0.0  \n",
       "\n",
       "[4691 rows x 10 columns]"
      ],
      "text/html": "<div>\n<style scoped>\n    .dataframe tbody tr th:only-of-type {\n        vertical-align: middle;\n    }\n\n    .dataframe tbody tr th {\n        vertical-align: top;\n    }\n\n    .dataframe thead th {\n        text-align: right;\n    }\n</style>\n<table border=\"1\" class=\"dataframe\">\n  <thead>\n    <tr style=\"text-align: right;\">\n      <th></th>\n      <th>Unnamed: 0</th>\n      <th>airbnb_listing_id</th>\n      <th>suburb</th>\n      <th>ad_name</th>\n      <th>number_of_bedrooms</th>\n      <th>number_of_bathrooms</th>\n      <th>star_rating</th>\n      <th>is_superhost</th>\n      <th>number_of_reviews</th>\n      <th>faturamento</th>\n    </tr>\n  </thead>\n  <tbody>\n    <tr>\n      <th>0</th>\n      <td>0</td>\n      <td>31389869</td>\n      <td>Jurerê</td>\n      <td>Lindo Apartamento em Jurerê</td>\n      <td>2.0</td>\n      <td>2.0</td>\n      <td>5.0</td>\n      <td>False</td>\n      <td>15.0</td>\n      <td>13510.0</td>\n    </tr>\n    <tr>\n      <th>1</th>\n      <td>1</td>\n      <td>40010667</td>\n      <td>Canasvieiras</td>\n      <td>Residencial Arruda, 1 quarto</td>\n      <td>1.0</td>\n      <td>1.0</td>\n      <td>NaN</td>\n      <td>False</td>\n      <td>0.0</td>\n      <td>35740.0</td>\n    </tr>\n    <tr>\n      <th>2</th>\n      <td>2</td>\n      <td>38905997</td>\n      <td>Ingleses</td>\n      <td>Apartamento NOVO Completo - Moderno e Sofisticado</td>\n      <td>1.0</td>\n      <td>1.0</td>\n      <td>4.5</td>\n      <td>True</td>\n      <td>13.0</td>\n      <td>16806.0</td>\n    </tr>\n    <tr>\n      <th>3</th>\n      <td>3</td>\n      <td>22343656</td>\n      <td>Ingleses</td>\n      <td>06- Apartamento 02 habitaciones</td>\n      <td>2.0</td>\n      <td>1.0</td>\n      <td>5.0</td>\n      <td>True</td>\n      <td>28.0</td>\n      <td>0.0</td>\n    </tr>\n    <tr>\n      <th>4</th>\n      <td>4</td>\n      <td>18328184</td>\n      <td>Canasvieiras</td>\n      <td>Apto 2 quartos em Canasvieiras, Florianopolis!</td>\n      <td>2.0</td>\n      <td>1.0</td>\n      <td>5.0</td>\n      <td>True</td>\n      <td>35.0</td>\n      <td>26825.0</td>\n    </tr>\n    <tr>\n      <th>...</th>\n      <td>...</td>\n      <td>...</td>\n      <td>...</td>\n      <td>...</td>\n      <td>...</td>\n      <td>...</td>\n      <td>...</td>\n      <td>...</td>\n      <td>...</td>\n      <td>...</td>\n    </tr>\n    <tr>\n      <th>4686</th>\n      <td>4686</td>\n      <td>34392248</td>\n      <td>Ingleses</td>\n      <td>Lindo e acogedor apto en zona norte de la Isla</td>\n      <td>2.0</td>\n      <td>2.0</td>\n      <td>NaN</td>\n      <td>False</td>\n      <td>0.0</td>\n      <td>0.0</td>\n    </tr>\n    <tr>\n      <th>4687</th>\n      <td>4687</td>\n      <td>44538969</td>\n      <td>Canasvieiras</td>\n      <td>Ótimo apto no centro de Canas, a 450m do mar</td>\n      <td>1.0</td>\n      <td>1.0</td>\n      <td>NaN</td>\n      <td>False</td>\n      <td>0.0</td>\n      <td>0.0</td>\n    </tr>\n    <tr>\n      <th>4688</th>\n      <td>4688</td>\n      <td>16609826</td>\n      <td>Jurerê</td>\n      <td>Agradável Apartamento em Jurerê Internacional</td>\n      <td>3.0</td>\n      <td>2.0</td>\n      <td>5.0</td>\n      <td>True</td>\n      <td>30.0</td>\n      <td>0.0</td>\n    </tr>\n    <tr>\n      <th>4689</th>\n      <td>4689</td>\n      <td>31239515</td>\n      <td>Canasvieiras</td>\n      <td>Cobertura no centro 3 dormitorios com AR.</td>\n      <td>3.0</td>\n      <td>2.0</td>\n      <td>NaN</td>\n      <td>True</td>\n      <td>2.0</td>\n      <td>0.0</td>\n    </tr>\n    <tr>\n      <th>4690</th>\n      <td>4690</td>\n      <td>5078051</td>\n      <td>Ingleses</td>\n      <td>APARTAMENTO A 400 M DA PRAIA</td>\n      <td>2.0</td>\n      <td>2.0</td>\n      <td>5.0</td>\n      <td>False</td>\n      <td>18.0</td>\n      <td>0.0</td>\n    </tr>\n  </tbody>\n</table>\n<p>4691 rows × 10 columns</p>\n</div>"
     },
     "metadata": {},
     "execution_count": 24
    }
   ],
   "source": [
    "df_details"
   ]
  },
  {
   "source": [
    "analisando a correlação"
   ],
   "cell_type": "markdown",
   "metadata": {}
  },
  {
   "cell_type": "code",
   "execution_count": 4,
   "metadata": {},
   "outputs": [
    {
     "output_type": "stream",
     "name": "stdout",
     "text": [
      "<class 'pandas.core.frame.DataFrame'>\nRangeIndex: 4691 entries, 0 to 4690\nData columns (total 10 columns):\n #   Column               Non-Null Count  Dtype  \n---  ------               --------------  -----  \n 0   Unnamed: 0           4691 non-null   int64  \n 1   airbnb_listing_id    4691 non-null   int64  \n 2   suburb               4691 non-null   object \n 3   ad_name              4691 non-null   object \n 4   number_of_bedrooms   4508 non-null   float64\n 5   number_of_bathrooms  4690 non-null   float64\n 6   star_rating          2570 non-null   float64\n 7   is_superhost         4691 non-null   bool   \n 8   number_of_reviews    4684 non-null   float64\n 9   faturamento          4691 non-null   float64\ndtypes: bool(1), float64(5), int64(2), object(2)\nmemory usage: 334.5+ KB\n"
     ]
    }
   ],
   "source": [
    "df_details.info()"
   ]
  },
  {
   "cell_type": "code",
   "execution_count": 47,
   "metadata": {},
   "outputs": [
    {
     "output_type": "execute_result",
     "data": {
      "text/plain": [
       "(4691, 10)"
      ]
     },
     "metadata": {},
     "execution_count": 47
    }
   ],
   "source": [
    "df_details.shape"
   ]
  },
  {
   "cell_type": "code",
   "execution_count": 46,
   "metadata": {},
   "outputs": [
    {
     "output_type": "execute_result",
     "data": {
      "text/plain": [
       "0.044415841443332466"
      ]
     },
     "metadata": {},
     "execution_count": 46
    }
   ],
   "source": [
    "df_details['faturamento'].corr(df_details['number_of_reviews'])"
   ]
  },
  {
   "cell_type": "code",
   "execution_count": 7,
   "metadata": {},
   "outputs": [
    {
     "output_type": "execute_result",
     "data": {
      "text/plain": [
       "(2450, 10)"
      ]
     },
     "metadata": {},
     "execution_count": 7
    }
   ],
   "source": [
    "df_details.dropna(inplace=True)\n",
    "df_details.shape"
   ]
  },
  {
   "cell_type": "code",
   "execution_count": 8,
   "metadata": {},
   "outputs": [
    {
     "output_type": "execute_result",
     "data": {
      "text/plain": [
       "                     Unnamed: 0  airbnb_listing_id  number_of_bedrooms  \\\n",
       "Unnamed: 0             1.000000           0.007333           -0.012281   \n",
       "airbnb_listing_id      0.007333           1.000000           -0.050457   \n",
       "number_of_bedrooms    -0.012281          -0.050457            1.000000   \n",
       "number_of_bathrooms    0.014472          -0.038661            0.758107   \n",
       "star_rating            0.010891          -0.012835            0.005798   \n",
       "is_superhost           0.011288           0.012875           -0.108500   \n",
       "number_of_reviews     -0.035585          -0.270643           -0.125340   \n",
       "faturamento           -0.103082           0.082133            0.131234   \n",
       "\n",
       "                     number_of_bathrooms  star_rating  is_superhost  \\\n",
       "Unnamed: 0                      0.014472     0.010891      0.011288   \n",
       "airbnb_listing_id              -0.038661    -0.012835      0.012875   \n",
       "number_of_bedrooms              0.758107     0.005798     -0.108500   \n",
       "number_of_bathrooms             1.000000     0.020738     -0.103450   \n",
       "star_rating                     0.020738     1.000000      0.196364   \n",
       "is_superhost                   -0.103450     0.196364      1.000000   \n",
       "number_of_reviews              -0.103849     0.121407      0.287413   \n",
       "faturamento                     0.155047     0.053912      0.062671   \n",
       "\n",
       "                     number_of_reviews  faturamento  \n",
       "Unnamed: 0                   -0.035585    -0.103082  \n",
       "airbnb_listing_id            -0.270643     0.082133  \n",
       "number_of_bedrooms           -0.125340     0.131234  \n",
       "number_of_bathrooms          -0.103849     0.155047  \n",
       "star_rating                   0.121407     0.053912  \n",
       "is_superhost                  0.287413     0.062671  \n",
       "number_of_reviews             1.000000     0.039613  \n",
       "faturamento                   0.039613     1.000000  "
      ],
      "text/html": "<div>\n<style scoped>\n    .dataframe tbody tr th:only-of-type {\n        vertical-align: middle;\n    }\n\n    .dataframe tbody tr th {\n        vertical-align: top;\n    }\n\n    .dataframe thead th {\n        text-align: right;\n    }\n</style>\n<table border=\"1\" class=\"dataframe\">\n  <thead>\n    <tr style=\"text-align: right;\">\n      <th></th>\n      <th>Unnamed: 0</th>\n      <th>airbnb_listing_id</th>\n      <th>number_of_bedrooms</th>\n      <th>number_of_bathrooms</th>\n      <th>star_rating</th>\n      <th>is_superhost</th>\n      <th>number_of_reviews</th>\n      <th>faturamento</th>\n    </tr>\n  </thead>\n  <tbody>\n    <tr>\n      <th>Unnamed: 0</th>\n      <td>1.000000</td>\n      <td>0.007333</td>\n      <td>-0.012281</td>\n      <td>0.014472</td>\n      <td>0.010891</td>\n      <td>0.011288</td>\n      <td>-0.035585</td>\n      <td>-0.103082</td>\n    </tr>\n    <tr>\n      <th>airbnb_listing_id</th>\n      <td>0.007333</td>\n      <td>1.000000</td>\n      <td>-0.050457</td>\n      <td>-0.038661</td>\n      <td>-0.012835</td>\n      <td>0.012875</td>\n      <td>-0.270643</td>\n      <td>0.082133</td>\n    </tr>\n    <tr>\n      <th>number_of_bedrooms</th>\n      <td>-0.012281</td>\n      <td>-0.050457</td>\n      <td>1.000000</td>\n      <td>0.758107</td>\n      <td>0.005798</td>\n      <td>-0.108500</td>\n      <td>-0.125340</td>\n      <td>0.131234</td>\n    </tr>\n    <tr>\n      <th>number_of_bathrooms</th>\n      <td>0.014472</td>\n      <td>-0.038661</td>\n      <td>0.758107</td>\n      <td>1.000000</td>\n      <td>0.020738</td>\n      <td>-0.103450</td>\n      <td>-0.103849</td>\n      <td>0.155047</td>\n    </tr>\n    <tr>\n      <th>star_rating</th>\n      <td>0.010891</td>\n      <td>-0.012835</td>\n      <td>0.005798</td>\n      <td>0.020738</td>\n      <td>1.000000</td>\n      <td>0.196364</td>\n      <td>0.121407</td>\n      <td>0.053912</td>\n    </tr>\n    <tr>\n      <th>is_superhost</th>\n      <td>0.011288</td>\n      <td>0.012875</td>\n      <td>-0.108500</td>\n      <td>-0.103450</td>\n      <td>0.196364</td>\n      <td>1.000000</td>\n      <td>0.287413</td>\n      <td>0.062671</td>\n    </tr>\n    <tr>\n      <th>number_of_reviews</th>\n      <td>-0.035585</td>\n      <td>-0.270643</td>\n      <td>-0.125340</td>\n      <td>-0.103849</td>\n      <td>0.121407</td>\n      <td>0.287413</td>\n      <td>1.000000</td>\n      <td>0.039613</td>\n    </tr>\n    <tr>\n      <th>faturamento</th>\n      <td>-0.103082</td>\n      <td>0.082133</td>\n      <td>0.131234</td>\n      <td>0.155047</td>\n      <td>0.053912</td>\n      <td>0.062671</td>\n      <td>0.039613</td>\n      <td>1.000000</td>\n    </tr>\n  </tbody>\n</table>\n</div>"
     },
     "metadata": {},
     "execution_count": 8
    }
   ],
   "source": [
    "df_details.corr()"
   ]
  },
  {
   "cell_type": "code",
   "execution_count": 36,
   "metadata": {},
   "outputs": [
    {
     "output_type": "execute_result",
     "data": {
      "text/plain": [
       "<pandas.io.formats.style.Styler at 0x7f8a13d11d90>"
      ],
      "text/html": "<style  type=\"text/css\" >\n#T_6ece56b0_c856_11eb_86cf_595bd36bcf05row0_col0,#T_6ece56b0_c856_11eb_86cf_595bd36bcf05row1_col1,#T_6ece56b0_c856_11eb_86cf_595bd36bcf05row2_col2,#T_6ece56b0_c856_11eb_86cf_595bd36bcf05row3_col3,#T_6ece56b0_c856_11eb_86cf_595bd36bcf05row4_col4,#T_6ece56b0_c856_11eb_86cf_595bd36bcf05row5_col5,#T_6ece56b0_c856_11eb_86cf_595bd36bcf05row6_col6,#T_6ece56b0_c856_11eb_86cf_595bd36bcf05row7_col7{\n            background-color:  #b40426;\n            color:  #f1f1f1;\n        }#T_6ece56b0_c856_11eb_86cf_595bd36bcf05row0_col1{\n            background-color:  #82a6fb;\n            color:  #000000;\n        }#T_6ece56b0_c856_11eb_86cf_595bd36bcf05row0_col2,#T_6ece56b0_c856_11eb_86cf_595bd36bcf05row1_col0{\n            background-color:  #5977e3;\n            color:  #000000;\n        }#T_6ece56b0_c856_11eb_86cf_595bd36bcf05row0_col3,#T_6ece56b0_c856_11eb_86cf_595bd36bcf05row0_col5,#T_6ece56b0_c856_11eb_86cf_595bd36bcf05row3_col0{\n            background-color:  #5b7ae5;\n            color:  #000000;\n        }#T_6ece56b0_c856_11eb_86cf_595bd36bcf05row0_col4{\n            background-color:  #4055c8;\n            color:  #f1f1f1;\n        }#T_6ece56b0_c856_11eb_86cf_595bd36bcf05row0_col6{\n            background-color:  #7699f6;\n            color:  #000000;\n        }#T_6ece56b0_c856_11eb_86cf_595bd36bcf05row0_col7,#T_6ece56b0_c856_11eb_86cf_595bd36bcf05row1_col4,#T_6ece56b0_c856_11eb_86cf_595bd36bcf05row1_col6,#T_6ece56b0_c856_11eb_86cf_595bd36bcf05row2_col5,#T_6ece56b0_c856_11eb_86cf_595bd36bcf05row5_col3,#T_6ece56b0_c856_11eb_86cf_595bd36bcf05row6_col1,#T_6ece56b0_c856_11eb_86cf_595bd36bcf05row6_col2,#T_6ece56b0_c856_11eb_86cf_595bd36bcf05row6_col3,#T_6ece56b0_c856_11eb_86cf_595bd36bcf05row7_col0{\n            background-color:  #3b4cc0;\n            color:  #f1f1f1;\n        }#T_6ece56b0_c856_11eb_86cf_595bd36bcf05row1_col2{\n            background-color:  #4f69d9;\n            color:  #000000;\n        }#T_6ece56b0_c856_11eb_86cf_595bd36bcf05row1_col3,#T_6ece56b0_c856_11eb_86cf_595bd36bcf05row6_col0{\n            background-color:  #4c66d6;\n            color:  #000000;\n        }#T_6ece56b0_c856_11eb_86cf_595bd36bcf05row1_col5,#T_6ece56b0_c856_11eb_86cf_595bd36bcf05row4_col3{\n            background-color:  #5d7ce6;\n            color:  #000000;\n        }#T_6ece56b0_c856_11eb_86cf_595bd36bcf05row1_col7{\n            background-color:  #6f92f3;\n            color:  #000000;\n        }#T_6ece56b0_c856_11eb_86cf_595bd36bcf05row2_col0{\n            background-color:  #5470de;\n            color:  #000000;\n        }#T_6ece56b0_c856_11eb_86cf_595bd36bcf05row2_col1{\n            background-color:  #7295f4;\n            color:  #000000;\n        }#T_6ece56b0_c856_11eb_86cf_595bd36bcf05row2_col3{\n            background-color:  #f18d6f;\n            color:  #000000;\n        }#T_6ece56b0_c856_11eb_86cf_595bd36bcf05row2_col4{\n            background-color:  #3f53c6;\n            color:  #f1f1f1;\n        }#T_6ece56b0_c856_11eb_86cf_595bd36bcf05row2_col6,#T_6ece56b0_c856_11eb_86cf_595bd36bcf05row4_col2{\n            background-color:  #5e7de7;\n            color:  #000000;\n        }#T_6ece56b0_c856_11eb_86cf_595bd36bcf05row2_col7{\n            background-color:  #80a3fa;\n            color:  #000000;\n        }#T_6ece56b0_c856_11eb_86cf_595bd36bcf05row3_col1{\n            background-color:  #7597f6;\n            color:  #000000;\n        }#T_6ece56b0_c856_11eb_86cf_595bd36bcf05row3_col2{\n            background-color:  #f08b6e;\n            color:  #000000;\n        }#T_6ece56b0_c856_11eb_86cf_595bd36bcf05row3_col4{\n            background-color:  #445acc;\n            color:  #f1f1f1;\n        }#T_6ece56b0_c856_11eb_86cf_595bd36bcf05row3_col5{\n            background-color:  #3c4ec2;\n            color:  #f1f1f1;\n        }#T_6ece56b0_c856_11eb_86cf_595bd36bcf05row3_col6,#T_6ece56b0_c856_11eb_86cf_595bd36bcf05row6_col4,#T_6ece56b0_c856_11eb_86cf_595bd36bcf05row6_col7{\n            background-color:  #6384eb;\n            color:  #000000;\n        }#T_6ece56b0_c856_11eb_86cf_595bd36bcf05row3_col7{\n            background-color:  #86a9fc;\n            color:  #000000;\n        }#T_6ece56b0_c856_11eb_86cf_595bd36bcf05row4_col0,#T_6ece56b0_c856_11eb_86cf_595bd36bcf05row5_col0{\n            background-color:  #5a78e4;\n            color:  #000000;\n        }#T_6ece56b0_c856_11eb_86cf_595bd36bcf05row4_col1{\n            background-color:  #7b9ff9;\n            color:  #000000;\n        }#T_6ece56b0_c856_11eb_86cf_595bd36bcf05row4_col5{\n            background-color:  #96b7ff;\n            color:  #000000;\n        }#T_6ece56b0_c856_11eb_86cf_595bd36bcf05row4_col6{\n            background-color:  #a1c0ff;\n            color:  #000000;\n        }#T_6ece56b0_c856_11eb_86cf_595bd36bcf05row4_col7{\n            background-color:  #6788ee;\n            color:  #000000;\n        }#T_6ece56b0_c856_11eb_86cf_595bd36bcf05row5_col1{\n            background-color:  #84a7fc;\n            color:  #000000;\n        }#T_6ece56b0_c856_11eb_86cf_595bd36bcf05row5_col2{\n            background-color:  #3e51c5;\n            color:  #f1f1f1;\n        }#T_6ece56b0_c856_11eb_86cf_595bd36bcf05row5_col4{\n            background-color:  #7da0f9;\n            color:  #000000;\n        }#T_6ece56b0_c856_11eb_86cf_595bd36bcf05row5_col6{\n            background-color:  #ccd9ed;\n            color:  #000000;\n        }#T_6ece56b0_c856_11eb_86cf_595bd36bcf05row5_col7{\n            background-color:  #6a8bef;\n            color:  #000000;\n        }#T_6ece56b0_c856_11eb_86cf_595bd36bcf05row6_col5{\n            background-color:  #b2ccfb;\n            color:  #000000;\n        }#T_6ece56b0_c856_11eb_86cf_595bd36bcf05row7_col1{\n            background-color:  #97b8ff;\n            color:  #000000;\n        }#T_6ece56b0_c856_11eb_86cf_595bd36bcf05row7_col2{\n            background-color:  #85a8fc;\n            color:  #000000;\n        }#T_6ece56b0_c856_11eb_86cf_595bd36bcf05row7_col3{\n            background-color:  #88abfd;\n            color:  #000000;\n        }#T_6ece56b0_c856_11eb_86cf_595bd36bcf05row7_col4{\n            background-color:  #4e68d8;\n            color:  #000000;\n        }#T_6ece56b0_c856_11eb_86cf_595bd36bcf05row7_col5{\n            background-color:  #6b8df0;\n            color:  #000000;\n        }#T_6ece56b0_c856_11eb_86cf_595bd36bcf05row7_col6{\n            background-color:  #8badfd;\n            color:  #000000;\n        }</style><table id=\"T_6ece56b0_c856_11eb_86cf_595bd36bcf05\" ><thead>    <tr>        <th class=\"blank level0\" ></th>        <th class=\"col_heading level0 col0\" >Unnamed: 0</th>        <th class=\"col_heading level0 col1\" >airbnb_listing_id</th>        <th class=\"col_heading level0 col2\" >number_of_bedrooms</th>        <th class=\"col_heading level0 col3\" >number_of_bathrooms</th>        <th class=\"col_heading level0 col4\" >star_rating</th>        <th class=\"col_heading level0 col5\" >is_superhost</th>        <th class=\"col_heading level0 col6\" >number_of_reviews</th>        <th class=\"col_heading level0 col7\" >faturamento</th>    </tr></thead><tbody>\n                <tr>\n                        <th id=\"T_6ece56b0_c856_11eb_86cf_595bd36bcf05level0_row0\" class=\"row_heading level0 row0\" >Unnamed: 0</th>\n                        <td id=\"T_6ece56b0_c856_11eb_86cf_595bd36bcf05row0_col0\" class=\"data row0 col0\" >1.000000</td>\n                        <td id=\"T_6ece56b0_c856_11eb_86cf_595bd36bcf05row0_col1\" class=\"data row0 col1\" >0.007333</td>\n                        <td id=\"T_6ece56b0_c856_11eb_86cf_595bd36bcf05row0_col2\" class=\"data row0 col2\" >-0.012281</td>\n                        <td id=\"T_6ece56b0_c856_11eb_86cf_595bd36bcf05row0_col3\" class=\"data row0 col3\" >0.014472</td>\n                        <td id=\"T_6ece56b0_c856_11eb_86cf_595bd36bcf05row0_col4\" class=\"data row0 col4\" >0.010891</td>\n                        <td id=\"T_6ece56b0_c856_11eb_86cf_595bd36bcf05row0_col5\" class=\"data row0 col5\" >0.011288</td>\n                        <td id=\"T_6ece56b0_c856_11eb_86cf_595bd36bcf05row0_col6\" class=\"data row0 col6\" >-0.035585</td>\n                        <td id=\"T_6ece56b0_c856_11eb_86cf_595bd36bcf05row0_col7\" class=\"data row0 col7\" >-0.103082</td>\n            </tr>\n            <tr>\n                        <th id=\"T_6ece56b0_c856_11eb_86cf_595bd36bcf05level0_row1\" class=\"row_heading level0 row1\" >airbnb_listing_id</th>\n                        <td id=\"T_6ece56b0_c856_11eb_86cf_595bd36bcf05row1_col0\" class=\"data row1 col0\" >0.007333</td>\n                        <td id=\"T_6ece56b0_c856_11eb_86cf_595bd36bcf05row1_col1\" class=\"data row1 col1\" >1.000000</td>\n                        <td id=\"T_6ece56b0_c856_11eb_86cf_595bd36bcf05row1_col2\" class=\"data row1 col2\" >-0.050457</td>\n                        <td id=\"T_6ece56b0_c856_11eb_86cf_595bd36bcf05row1_col3\" class=\"data row1 col3\" >-0.038661</td>\n                        <td id=\"T_6ece56b0_c856_11eb_86cf_595bd36bcf05row1_col4\" class=\"data row1 col4\" >-0.012835</td>\n                        <td id=\"T_6ece56b0_c856_11eb_86cf_595bd36bcf05row1_col5\" class=\"data row1 col5\" >0.012875</td>\n                        <td id=\"T_6ece56b0_c856_11eb_86cf_595bd36bcf05row1_col6\" class=\"data row1 col6\" >-0.270643</td>\n                        <td id=\"T_6ece56b0_c856_11eb_86cf_595bd36bcf05row1_col7\" class=\"data row1 col7\" >0.082133</td>\n            </tr>\n            <tr>\n                        <th id=\"T_6ece56b0_c856_11eb_86cf_595bd36bcf05level0_row2\" class=\"row_heading level0 row2\" >number_of_bedrooms</th>\n                        <td id=\"T_6ece56b0_c856_11eb_86cf_595bd36bcf05row2_col0\" class=\"data row2 col0\" >-0.012281</td>\n                        <td id=\"T_6ece56b0_c856_11eb_86cf_595bd36bcf05row2_col1\" class=\"data row2 col1\" >-0.050457</td>\n                        <td id=\"T_6ece56b0_c856_11eb_86cf_595bd36bcf05row2_col2\" class=\"data row2 col2\" >1.000000</td>\n                        <td id=\"T_6ece56b0_c856_11eb_86cf_595bd36bcf05row2_col3\" class=\"data row2 col3\" >0.758107</td>\n                        <td id=\"T_6ece56b0_c856_11eb_86cf_595bd36bcf05row2_col4\" class=\"data row2 col4\" >0.005798</td>\n                        <td id=\"T_6ece56b0_c856_11eb_86cf_595bd36bcf05row2_col5\" class=\"data row2 col5\" >-0.108500</td>\n                        <td id=\"T_6ece56b0_c856_11eb_86cf_595bd36bcf05row2_col6\" class=\"data row2 col6\" >-0.125340</td>\n                        <td id=\"T_6ece56b0_c856_11eb_86cf_595bd36bcf05row2_col7\" class=\"data row2 col7\" >0.131234</td>\n            </tr>\n            <tr>\n                        <th id=\"T_6ece56b0_c856_11eb_86cf_595bd36bcf05level0_row3\" class=\"row_heading level0 row3\" >number_of_bathrooms</th>\n                        <td id=\"T_6ece56b0_c856_11eb_86cf_595bd36bcf05row3_col0\" class=\"data row3 col0\" >0.014472</td>\n                        <td id=\"T_6ece56b0_c856_11eb_86cf_595bd36bcf05row3_col1\" class=\"data row3 col1\" >-0.038661</td>\n                        <td id=\"T_6ece56b0_c856_11eb_86cf_595bd36bcf05row3_col2\" class=\"data row3 col2\" >0.758107</td>\n                        <td id=\"T_6ece56b0_c856_11eb_86cf_595bd36bcf05row3_col3\" class=\"data row3 col3\" >1.000000</td>\n                        <td id=\"T_6ece56b0_c856_11eb_86cf_595bd36bcf05row3_col4\" class=\"data row3 col4\" >0.020738</td>\n                        <td id=\"T_6ece56b0_c856_11eb_86cf_595bd36bcf05row3_col5\" class=\"data row3 col5\" >-0.103450</td>\n                        <td id=\"T_6ece56b0_c856_11eb_86cf_595bd36bcf05row3_col6\" class=\"data row3 col6\" >-0.103849</td>\n                        <td id=\"T_6ece56b0_c856_11eb_86cf_595bd36bcf05row3_col7\" class=\"data row3 col7\" >0.155047</td>\n            </tr>\n            <tr>\n                        <th id=\"T_6ece56b0_c856_11eb_86cf_595bd36bcf05level0_row4\" class=\"row_heading level0 row4\" >star_rating</th>\n                        <td id=\"T_6ece56b0_c856_11eb_86cf_595bd36bcf05row4_col0\" class=\"data row4 col0\" >0.010891</td>\n                        <td id=\"T_6ece56b0_c856_11eb_86cf_595bd36bcf05row4_col1\" class=\"data row4 col1\" >-0.012835</td>\n                        <td id=\"T_6ece56b0_c856_11eb_86cf_595bd36bcf05row4_col2\" class=\"data row4 col2\" >0.005798</td>\n                        <td id=\"T_6ece56b0_c856_11eb_86cf_595bd36bcf05row4_col3\" class=\"data row4 col3\" >0.020738</td>\n                        <td id=\"T_6ece56b0_c856_11eb_86cf_595bd36bcf05row4_col4\" class=\"data row4 col4\" >1.000000</td>\n                        <td id=\"T_6ece56b0_c856_11eb_86cf_595bd36bcf05row4_col5\" class=\"data row4 col5\" >0.196364</td>\n                        <td id=\"T_6ece56b0_c856_11eb_86cf_595bd36bcf05row4_col6\" class=\"data row4 col6\" >0.121407</td>\n                        <td id=\"T_6ece56b0_c856_11eb_86cf_595bd36bcf05row4_col7\" class=\"data row4 col7\" >0.053912</td>\n            </tr>\n            <tr>\n                        <th id=\"T_6ece56b0_c856_11eb_86cf_595bd36bcf05level0_row5\" class=\"row_heading level0 row5\" >is_superhost</th>\n                        <td id=\"T_6ece56b0_c856_11eb_86cf_595bd36bcf05row5_col0\" class=\"data row5 col0\" >0.011288</td>\n                        <td id=\"T_6ece56b0_c856_11eb_86cf_595bd36bcf05row5_col1\" class=\"data row5 col1\" >0.012875</td>\n                        <td id=\"T_6ece56b0_c856_11eb_86cf_595bd36bcf05row5_col2\" class=\"data row5 col2\" >-0.108500</td>\n                        <td id=\"T_6ece56b0_c856_11eb_86cf_595bd36bcf05row5_col3\" class=\"data row5 col3\" >-0.103450</td>\n                        <td id=\"T_6ece56b0_c856_11eb_86cf_595bd36bcf05row5_col4\" class=\"data row5 col4\" >0.196364</td>\n                        <td id=\"T_6ece56b0_c856_11eb_86cf_595bd36bcf05row5_col5\" class=\"data row5 col5\" >1.000000</td>\n                        <td id=\"T_6ece56b0_c856_11eb_86cf_595bd36bcf05row5_col6\" class=\"data row5 col6\" >0.287413</td>\n                        <td id=\"T_6ece56b0_c856_11eb_86cf_595bd36bcf05row5_col7\" class=\"data row5 col7\" >0.062671</td>\n            </tr>\n            <tr>\n                        <th id=\"T_6ece56b0_c856_11eb_86cf_595bd36bcf05level0_row6\" class=\"row_heading level0 row6\" >number_of_reviews</th>\n                        <td id=\"T_6ece56b0_c856_11eb_86cf_595bd36bcf05row6_col0\" class=\"data row6 col0\" >-0.035585</td>\n                        <td id=\"T_6ece56b0_c856_11eb_86cf_595bd36bcf05row6_col1\" class=\"data row6 col1\" >-0.270643</td>\n                        <td id=\"T_6ece56b0_c856_11eb_86cf_595bd36bcf05row6_col2\" class=\"data row6 col2\" >-0.125340</td>\n                        <td id=\"T_6ece56b0_c856_11eb_86cf_595bd36bcf05row6_col3\" class=\"data row6 col3\" >-0.103849</td>\n                        <td id=\"T_6ece56b0_c856_11eb_86cf_595bd36bcf05row6_col4\" class=\"data row6 col4\" >0.121407</td>\n                        <td id=\"T_6ece56b0_c856_11eb_86cf_595bd36bcf05row6_col5\" class=\"data row6 col5\" >0.287413</td>\n                        <td id=\"T_6ece56b0_c856_11eb_86cf_595bd36bcf05row6_col6\" class=\"data row6 col6\" >1.000000</td>\n                        <td id=\"T_6ece56b0_c856_11eb_86cf_595bd36bcf05row6_col7\" class=\"data row6 col7\" >0.039613</td>\n            </tr>\n            <tr>\n                        <th id=\"T_6ece56b0_c856_11eb_86cf_595bd36bcf05level0_row7\" class=\"row_heading level0 row7\" >faturamento</th>\n                        <td id=\"T_6ece56b0_c856_11eb_86cf_595bd36bcf05row7_col0\" class=\"data row7 col0\" >-0.103082</td>\n                        <td id=\"T_6ece56b0_c856_11eb_86cf_595bd36bcf05row7_col1\" class=\"data row7 col1\" >0.082133</td>\n                        <td id=\"T_6ece56b0_c856_11eb_86cf_595bd36bcf05row7_col2\" class=\"data row7 col2\" >0.131234</td>\n                        <td id=\"T_6ece56b0_c856_11eb_86cf_595bd36bcf05row7_col3\" class=\"data row7 col3\" >0.155047</td>\n                        <td id=\"T_6ece56b0_c856_11eb_86cf_595bd36bcf05row7_col4\" class=\"data row7 col4\" >0.053912</td>\n                        <td id=\"T_6ece56b0_c856_11eb_86cf_595bd36bcf05row7_col5\" class=\"data row7 col5\" >0.062671</td>\n                        <td id=\"T_6ece56b0_c856_11eb_86cf_595bd36bcf05row7_col6\" class=\"data row7 col6\" >0.039613</td>\n                        <td id=\"T_6ece56b0_c856_11eb_86cf_595bd36bcf05row7_col7\" class=\"data row7 col7\" >1.000000</td>\n            </tr>\n    </tbody></table>"
     },
     "metadata": {},
     "execution_count": 36
    }
   ],
   "source": [
    "rs = np.random.RandomState(0)\n",
    "df = pd.DataFrame(rs.rand(10, 10))\n",
    "corr = df_details.corr()\n",
    "corr.style.background_gradient(cmap='coolwarm')"
   ]
  }
 ]
}